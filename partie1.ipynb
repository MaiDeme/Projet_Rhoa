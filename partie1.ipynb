{
 "cells": [
  {
   "cell_type": "code",
   "execution_count": 203,
   "metadata": {},
   "outputs": [],
   "source": [
    "import pickle\n",
    "import numpy as np\n",
    "import matplotlib.pyplot as plt\n",
    "import pandas as pd\n",
    "from tools.protein_tools import *\n",
    "from tools.S2_structure_tools import *\n",
    "from math import *\n",
    "import matplotlib.patches as mpatches"
   ]
  },
  {
   "cell_type": "code",
   "execution_count": 204,
   "metadata": {},
   "outputs": [],
   "source": [
    "charge = ['ARG', 'ASP', 'GLN', 'HIS', 'LYS']\n",
    "pol = ['ASN', 'GLU', 'GLY', 'SER', 'THR', 'TYR']\n",
    "hydrophobes = ['ALA', 'CYS', 'ILE', 'LEU', 'MET', 'PHE', 'PRO', 'TRP', 'VAL']\n",
    "len(charge)+len(pol)+len(hydrophobes)\n",
    "\n",
    "\n",
    "res_inter = {}\n",
    "res_surf = {}\n",
    "res_all = {}"
   ]
  },
  {
   "cell_type": "markdown",
   "metadata": {},
   "source": [
    "## Interface 1 5C2K = Rhoa + RACGAP1"
   ]
  },
  {
   "cell_type": "code",
   "execution_count": 205,
   "metadata": {},
   "outputs": [],
   "source": [
    "d_RhoA = pickle.load(\n",
    "    open('PDB_files/PKL_partie1/5C2K_RhoA_GTP_RACGAP1_bound_A.pkl', 'rb'))\n",
    "d_RACGAP1 = pickle.load(\n",
    "    open('PDB_files/PKL_partie1/5C2K_RhoA_GTP_RACGAP1_bound_B.pkl', 'rb'))\n",
    "d_5C2K = pickle.load(\n",
    "    open('PDB_files/PKL_partie1/5C2K_RhoA_GTP_RACGAP1_bound.pkl', 'rb'))\n",
    "\n",
    "\n",
    "res_surf['5C2K'] = {}\n",
    "res_inter['5C2K'] = {}\n",
    "res_all['5C2K'] = d_5C2K"
   ]
  },
  {
   "cell_type": "code",
   "execution_count": 206,
   "metadata": {},
   "outputs": [],
   "source": [
    "surf, inter = surface(d_RhoA, d_5C2K)\n",
    "res_surf['5C2K']['RhoA'] = surf\n",
    "res_inter['5C2K']['RhoA'] = inter"
   ]
  },
  {
   "cell_type": "code",
   "execution_count": 207,
   "metadata": {},
   "outputs": [],
   "source": [
    "\n",
    "surf, inter = surface(d_RACGAP1, d_5C2K)\n",
    "res_surf['5C2K']['RACGAP1'] = surf\n",
    "res_inter['5C2K']['RACGAP1'] = inter"
   ]
  },
  {
   "cell_type": "markdown",
   "metadata": {},
   "source": [
    "## Interface 2 1CXZ  RhoA + Kinase PKN"
   ]
  },
  {
   "cell_type": "code",
   "execution_count": 208,
   "metadata": {},
   "outputs": [],
   "source": [
    "\n",
    "d_RhoA = pickle.load(\n",
    "    open(\"PDB_files/PKL_partie1/1CXZ_RhoA_PKN_bound_A.pkl\", 'rb'))\n",
    "d_kinasePKN = pickle.load(\n",
    "    open(\"PDB_files/PKL_partie1/1CXZ_RhoA_PKN_bound_B.pkl\", 'rb'))\n",
    "\n",
    "d_1CXZ = pickle.load(\n",
    "    open(\"PDB_files/PKL_partie1/1CXZ_RhoA_PKN_bound.pkl\", 'rb'))\n",
    "\n",
    "res_surf['1CXZ'] = {}\n",
    "res_inter['1CXZ'] = {}\n",
    "res_all['1CXZ'] = d_1CXZ"
   ]
  },
  {
   "cell_type": "code",
   "execution_count": 209,
   "metadata": {},
   "outputs": [],
   "source": [
    "surf, inter = surface(d_RhoA, d_1CXZ)\n",
    "res_surf['1CXZ']['RhoA'] = surf\n",
    "res_inter['1CXZ']['RhoA'] = inter"
   ]
  },
  {
   "cell_type": "code",
   "execution_count": 210,
   "metadata": {},
   "outputs": [],
   "source": [
    "surf, inter = surface(d_kinasePKN, d_1CXZ)\n",
    "res_surf['1CXZ']['PKN'] = surf\n",
    "res_inter['1CXZ']['PKN'] = inter"
   ]
  },
  {
   "cell_type": "markdown",
   "metadata": {},
   "source": [
    "## 1Z2C RhoC + mDIA1"
   ]
  },
  {
   "cell_type": "code",
   "execution_count": 211,
   "metadata": {},
   "outputs": [],
   "source": [
    "d_RhoC = pickle.load(\n",
    "    open(\"PDB_files/PKL_partie1/1Z2C_RhoC_GTP_mDIA1_bound_A.pkl\", 'rb'))\n",
    "d_mDIA1 = pickle.load(\n",
    "    open(\"PDB_files/PKL_partie1/1Z2C_RhoC_GTP_mDIA1_bound_B.pkl\", 'rb'))\n",
    "d_1Z2C = pickle.load(\n",
    "    open(\"PDB_files/PKL_partie1/1Z2C_RhoC_GTP_mDIA1_bound.pkl\", 'rb'))\n",
    "\n",
    "res_surf['1Z2C'] = {}\n",
    "res_inter['1Z2C'] = {}\n",
    "res_all['1Z2C'] = d_1Z2C"
   ]
  },
  {
   "cell_type": "code",
   "execution_count": 212,
   "metadata": {},
   "outputs": [],
   "source": [
    "surf, inter = surface(d_RhoC, d_1Z2C)\n",
    "res_surf['1Z2C']['RhoC'] = surf\n",
    "res_inter['1Z2C']['RhoC'] = inter"
   ]
  },
  {
   "cell_type": "code",
   "execution_count": 213,
   "metadata": {},
   "outputs": [],
   "source": [
    "surf, inter = surface(d_mDIA1, d_1Z2C)\n",
    "res_surf['1Z2C']['mDIA1'] = surf\n",
    "res_inter['1Z2C']['mDIA1'] = inter"
   ]
  },
  {
   "cell_type": "markdown",
   "metadata": {},
   "source": [
    "## 3EG5 Cdc42 + mDIA1"
   ]
  },
  {
   "cell_type": "code",
   "execution_count": 214,
   "metadata": {},
   "outputs": [],
   "source": [
    "d_Cdc42 = pickle.load(\n",
    "    open(\"PDB_files/PKL_partie1/3EG5_Cdc42_mDIA1_bound_A.pkl\", 'rb'))\n",
    "d_mDIA1 = pickle.load(\n",
    "    open(\"PDB_files/PKL_partie1/3EG5_Cdc42_mDIA1_bound_B.pkl\", 'rb'))\n",
    "d_3EG5 = pickle.load(\n",
    "    open(\"PDB_files/PKL_partie1/3EG5_Cdc42_mDIA1_bound.pkl\", 'rb'))\n",
    "\n",
    "res_surf['3EG5'] = {}\n",
    "res_inter['3EG5'] = {}\n",
    "res_all['3EG5'] = d_3EG5"
   ]
  },
  {
   "cell_type": "code",
   "execution_count": 215,
   "metadata": {},
   "outputs": [],
   "source": [
    "surf, inter = surface(d_Cdc42, d_3EG5)\n",
    "res_surf['3EG5']['Cdc42'] = surf\n",
    "res_inter['3EG5']['Cdc42'] = inter"
   ]
  },
  {
   "cell_type": "code",
   "execution_count": 216,
   "metadata": {},
   "outputs": [],
   "source": [
    "surf, inter = surface(d_mDIA1, d_3EG5)\n",
    "res_surf['3EG5']['mDIA1'] = surf\n",
    "res_inter['3EG5']['mDIA1'] = inter"
   ]
  },
  {
   "cell_type": "markdown",
   "metadata": {},
   "source": [
    "## 4I1O Rab1 +GAP"
   ]
  },
  {
   "cell_type": "code",
   "execution_count": 217,
   "metadata": {},
   "outputs": [],
   "source": [
    "d_Rab1 = pickle.load(\n",
    "    open(\"PDB_files/PKL_partie1/4I1O_Rab1_GAPLegionella_bound_A.pkl\", 'rb'))\n",
    "d_GAP = pickle.load(\n",
    "    open(\"PDB_files/PKL_partie1/4I1O_Rab1_GAPLegionella_bound_D.pkl\", 'rb'))\n",
    "d_4I1O = pickle.load(\n",
    "    open(\"PDB_files/PKL_partie1/4I1O_Rab1_GAPLegionella_bound.pkl\", 'rb'))\n",
    "\n",
    "res_surf['4I1O'] = {}\n",
    "res_inter['4I1O'] = {}\n",
    "res_all['4I1O'] = d_4I1O"
   ]
  },
  {
   "cell_type": "code",
   "execution_count": 218,
   "metadata": {},
   "outputs": [],
   "source": [
    "surf, inter = surface(d_Rab1, d_4I1O)\n",
    "res_surf['4I1O']['Rab1'] = surf\n",
    "res_inter['4I1O']['Rab1'] = inter"
   ]
  },
  {
   "cell_type": "code",
   "execution_count": 219,
   "metadata": {},
   "outputs": [],
   "source": [
    "surf, inter = surface(d_GAP, d_4I1O)\n",
    "res_surf['4I1O']['GAP'] = surf\n",
    "res_inter['4I1O']['GAP'] = inter"
   ]
  },
  {
   "cell_type": "markdown",
   "metadata": {},
   "source": [
    "## Interface"
   ]
  },
  {
   "cell_type": "code",
   "execution_count": 220,
   "metadata": {},
   "outputs": [],
   "source": [
    "inter_len = {}\n",
    "surf_len = {}\n",
    "for key in res_inter.keys():\n",
    "    inter_len[key] = {'size in AA': {}}\n",
    "    surf_len[key] = {'size in AA': {}}\n",
    "    for key2 in res_inter[key].keys():\n",
    "        inter_len[key]['size in AA'][key2] = len(res_inter[key][key2])\n",
    "    for key2 in res_surf[key].keys():\n",
    "        surf_len[key]['size in AA'][key2] = len(res_surf[key][key2])"
   ]
  },
  {
   "cell_type": "code",
   "execution_count": 221,
   "metadata": {},
   "outputs": [
    {
     "data": {
      "image/png": "[encoded data removed]",
      "text/plain": [
       "<Figure size 640x480 with 1 Axes>"
      ]
     },
     "metadata": {},
     "output_type": "display_data"
    }
   ],
   "source": [
    "\n",
    "val_ligand = [sub_dict['size in AA'][list(sub_dict['size in AA'].keys())[0]]\n",
    "              for sub_dict in inter_len.values()]\n",
    "x_coords_inter = range(len(val_ligand))\n",
    "plt.bar(x_coords_inter, val_ligand, color='yellow',\n",
    "        width=0.4, label='Rhoa', edgecolor='brown')\n",
    "\n",
    "val_recep = [sub_dict['size in AA'][list(sub_dict['size in AA'].keys())[1]]\n",
    "             for sub_dict in inter_len.values()]\n",
    "# Offset the x-coordinates\n",
    "x_coords_surf = [x + 0.4 for x in range(len(val_recep))]\n",
    "plt.bar(x_coords_surf, val_recep, color='pink',\n",
    "        width=0.4, label='Partner', edgecolor='brown')\n",
    "\n",
    "plt.xticks([x + 0.2 for x in range(len(val_recep))], list(inter_len.keys()),\n",
    "           rotation=45)  # Adjust the x-ticks to be in the middle of the bars\n",
    "plt.legend()\n",
    "plt.title('Number of residues on the interface')\n",
    "plt.show()"
   ]
  },
  {
   "cell_type": "code",
   "execution_count": 222,
   "metadata": {},
   "outputs": [],
   "source": [
    "# Calculate the size in SASA\n",
    "\n",
    "for key in res_inter.keys():\n",
    "    inter_len[key]['size in SASA'] = {}\n",
    "    surf_len[key]['size in SASA'] = {}\n",
    "    for key2 in res_inter[key].keys():\n",
    "        inter_len[key]['size in SASA'][key2] = 0\n",
    "        surf_len[key]['size in SASA'][key2] = 0\n",
    "        for res in res_inter[key][key2]:\n",
    "            inter_len[key]['size in SASA'][key2] += res_inter[key][key2][res]['SASA']\n",
    "        for res in res_surf[key][key2]:\n",
    "            surf_len[key]['size in SASA'][key2] += res_surf[key][key2][res]['SASA']\n",
    "# inter_len, suf_len"
   ]
  },
  {
   "cell_type": "code",
   "execution_count": 223,
   "metadata": {},
   "outputs": [
    {
     "data": {
      "image/png": "[encoded data removed]",
      "text/plain": [
       "<Figure size 640x480 with 1 Axes>"
      ]
     },
     "metadata": {},
     "output_type": "display_data"
    }
   ],
   "source": [
    "\n",
    "val_ligand = [sub_dict['size in SASA'][list(sub_dict['size in AA'].keys())[0]]\n",
    "              for sub_dict in inter_len.values()]\n",
    "x_coords_inter = range(len(val_ligand))\n",
    "plt.bar(x_coords_inter, val_ligand, color='yellow',\n",
    "        width=0.4, label='Rhoa', edgecolor='brown')\n",
    "\n",
    "val_recep = [sub_dict['size in SASA'][list(sub_dict['size in AA'].keys())[1]]\n",
    "             for sub_dict in inter_len.values()]\n",
    "# Offset the x-coordinates\n",
    "x_coords_surf = [x + 0.4 for x in range(len(val_recep))]\n",
    "plt.bar(x_coords_surf, val_recep, color='pink',\n",
    "        width=0.4, label='Partner', edgecolor='brown')\n",
    "\n",
    "plt.xticks([x + 0.2 for x in range(len(val_recep))], list(inter_len.keys()),\n",
    "           rotation=45)  # Adjust the x-ticks to be in the middle of the bars\n",
    "plt.legend()\n",
    "plt.title('Interface size in SASA')\n",
    "plt.show()"
   ]
  },
  {
   "cell_type": "markdown",
   "metadata": {},
   "source": [
    "### Prophension Relative"
   ]
  },
  {
   "cell_type": "code",
   "execution_count": 224,
   "metadata": {},
   "outputs": [],
   "source": [
    "logratio_charge={}\n",
    "\n",
    "for i in res_all:\n",
    "    hpint=0\n",
    "    for j in res_inter[i]:\n",
    "        for k in res_inter[i][j].values():\n",
    "            if k['resname'] in charge:\n",
    "                hpint+=1\n",
    "    hpsurf=0\n",
    "    for j in res_surf[i]:\n",
    "        for k in res_surf[i][j].values():\n",
    "            if k['resname'] in charge:\n",
    "                hpsurf+=1\n",
    "    temp1=inter_len[i]['size in AA'][list(inter_len[i]['size in AA'].keys())[0]]+inter_len[i]['size in AA'][list(inter_len[i]['size in AA'].keys())[1]]\n",
    "    temp2 = surf_len[i]['size in AA'][list(surf_len[i]['size in AA'].keys())[0]]+surf_len[i]['size in AA'][list(surf_len[i]['size in AA'].keys())[1]]\n",
    "    logratio_charge[i]=log2( (hpint/temp1) / (hpsurf/temp2) )\n",
    "\n",
    "\n",
    "logratio_polaire={}\n",
    "for i in res_all:\n",
    "    hpint=0\n",
    "    for j in res_inter[i]:\n",
    "        for k in res_inter[i][j].values():\n",
    "            if k['resname'] in pol:\n",
    "                hpint+=1\n",
    "    hpsurf=0\n",
    "    for j in res_surf[i]:\n",
    "        for k in res_surf[i][j].values():\n",
    "            if k['resname'] in pol:\n",
    "                hpsurf+=1\n",
    "    temp1=inter_len[i]['size in AA'][list(inter_len[i]['size in AA'].keys())[0]]+inter_len[i]['size in AA'][list(inter_len[i]['size in AA'].keys())[1]]\n",
    "    temp2 = surf_len[i]['size in AA'][list(surf_len[i]['size in AA'].keys())[0]]+surf_len[i]['size in AA'][list(surf_len[i]['size in AA'].keys())[1]]\n",
    "    logratio_polaire[i]=log2( (hpint/temp1) / (hpsurf/temp2) )\n",
    "\n",
    "\n",
    "logratio_hydro={}\n",
    "for i in res_all:\n",
    "    hpint=0\n",
    "    for j in res_inter[i]:\n",
    "        for k in res_inter[i][j].values():\n",
    "            if k['resname'] in hydrophobes:\n",
    "                hpint+=1\n",
    "    hpsurf=0\n",
    "    for j in res_surf[i]:\n",
    "        for k in res_surf[i][j].values():\n",
    "            if k['resname'] in hydrophobes:\n",
    "                hpsurf+=1\n",
    "    temp1=inter_len[i]['size in AA'][list(inter_len[i]['size in AA'].keys())[0]]+inter_len[i]['size in AA'][list(inter_len[i]['size in AA'].keys())[1]]\n",
    "    temp2 = surf_len[i]['size in AA'][list(surf_len[i]['size in AA'].keys())[0]]+surf_len[i]['size in AA'][list(surf_len[i]['size in AA'].keys())[1]]\n",
    "    logratio_hydro[i]=log2( (hpint/temp1) / (hpsurf/temp2) )"
   ]
  },
  {
   "cell_type": "code",
   "execution_count": 225,
   "metadata": {},
   "outputs": [
    {
     "data": {
      "image/png": "[encoded data removed]",
      "text/plain": [
       "<Figure size 640x480 with 1 Axes>"
      ]
     },
     "metadata": {},
     "output_type": "display_data"
    }
   ],
   "source": [
    "\n",
    "plt.bar(range(len(logratio_charge)), list(\n",
    "    logratio_charge.values()),width = 0.25, color='dodgerblue',edgecolor='white')\n",
    "plt.bar([x+0.25 for x in range(len(logratio_charge))],\n",
    "        list(logratio_polaire.values()),width = 0.25, color='turquoise',edgecolor='white')\n",
    "plt.bar([x+0.5 for x in range(len(logratio_charge))],\n",
    "        list(logratio_hydro.values()),width = 0.25, color='gold',edgecolor='white')\n",
    "plt.xticks([x+0.25/3 for x in range(len(logratio_charge))],\n",
    "           list(logratio_charge.keys()))\n",
    "\n",
    "\n",
    "colors = {'chargés':'dodgerblue', 'polaires':'turquoise','hydrophobes':'gold'}         \n",
    "labels = list(colors.keys())\n",
    "handles = [plt.Rectangle((0,0),1,1, color=colors[label]) for label in labels]\n",
    "\n",
    "plt.legend(handles, labels)\n",
    "\n",
    "plt.title(\" Prévalence des residus a etre a la surface plutot qu'a l'interface selon leur type \")\n",
    "plt.show()\n"
   ]
  }
 ],
 "metadata": {
  "kernelspec": {
   "display_name": "Python 3",
   "language": "python",
   "name": "python3"
  },
  "language_info": {
   "codemirror_mode": {
    "name": "ipython",
    "version": 3
   },
   "file_extension": ".py",
   "mimetype": "text/x-python",
   "name": "python",
   "nbconvert_exporter": "python",
   "pygments_lexer": "ipython3",
   "version": "3.10.12"
  }
 },
 "nbformat": 4,
 "nbformat_minor": 2
}
